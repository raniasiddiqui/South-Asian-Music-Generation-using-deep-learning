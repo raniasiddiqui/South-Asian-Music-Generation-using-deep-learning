{
  "cells": [
    {
      "cell_type": "code",
      "execution_count": 1,
      "metadata": {
        "_cell_guid": "b1076dfc-b9ad-4769-8c92-a6c4dae69d19",
        "_uuid": "8f2839f25d086af736a60e9eeb907d3b93b6e0e5",
        "colab": {
          "base_uri": "https://localhost:8080/"
        },
        "id": "s33Sj9TUUQT1",
        "outputId": "fd794999-57cf-417a-ad39-2aadd6a716ef"
      },
      "outputs": [
        {
          "output_type": "stream",
          "name": "stdout",
          "text": [
            "/content/Sitar, Bansuri Tabla trio  Rishab Prasanna & Sandip Banerjee & Nicolas Delaigue.mid\n",
            "/content/Morning Meditation Ragas On Sitar - Peaceful Music for Relaxation - B. Sivaramakrishna Rao.mid\n",
            "/content/Heal Ragas __ flute and sitar by Hariprasad chorsia__ calm mind__ Thumri in raag bhairavi.mid\n",
            "/content/Pandit Ravi Shankar - Morning Meditation Ragas On Sitar  Indian Classical Instrumental Music.mid\n",
            "/content/.config/active_config\n",
            "/content/.config/config_sentinel\n",
            "/content/.config/.last_opt_in_prompt.yaml\n",
            "/content/.config/default_configs.db\n",
            "/content/.config/.last_survey_prompt.yaml\n",
            "/content/.config/.last_update_check.json\n",
            "/content/.config/gce\n",
            "/content/.config/configurations/config_default\n",
            "/content/.config/logs/2023.12.04/14.20.49.627769.log\n",
            "/content/.config/logs/2023.12.04/14.23.49.652015.log\n",
            "/content/.config/logs/2023.12.04/14.23.59.638040.log\n",
            "/content/.config/logs/2023.12.04/14.26.59.279282.log\n",
            "/content/.config/logs/2023.12.04/14.27.00.107426.log\n",
            "/content/.config/logs/2023.12.04/14.26.48.840108.log\n",
            "/content/sample_data/anscombe.json\n",
            "/content/sample_data/README.md\n",
            "/content/sample_data/california_housing_train.csv\n",
            "/content/sample_data/mnist_test.csv\n",
            "/content/sample_data/california_housing_test.csv\n",
            "/content/sample_data/mnist_train_small.csv\n"
          ]
        }
      ],
      "source": [
        "import numpy as np # linear algebra\n",
        "import pandas as pd # data processing, CSV file I/O (e.g. pd.read_csv)\n",
        "import os\n",
        "for dirname, _, filenames in os.walk('/content/'):\n",
        "    for filename in filenames:\n",
        "        print(os.path.join(dirname, filename))"
      ]
    },
    {
      "cell_type": "code",
      "execution_count": 2,
      "metadata": {
        "_cell_guid": "79c7e3d0-c299-4dcb-8224-4455121ee9b0",
        "_uuid": "d629ff2d2480ee46fbb7e2d37f6b5fab8052498a",
        "colab": {
          "base_uri": "https://localhost:8080/"
        },
        "id": "jc23ILn4UQT2",
        "outputId": "724c43d2-6625-4a16-e137-b99e32b847ef"
      },
      "outputs": [
        {
          "output_type": "stream",
          "name": "stdout",
          "text": [
            "Requirement already satisfied: music21 in /usr/local/lib/python3.10/dist-packages (9.1.0)\n",
            "Requirement already satisfied: chardet in /usr/local/lib/python3.10/dist-packages (from music21) (5.2.0)\n",
            "Requirement already satisfied: joblib in /usr/local/lib/python3.10/dist-packages (from music21) (1.3.2)\n",
            "Requirement already satisfied: jsonpickle in /usr/local/lib/python3.10/dist-packages (from music21) (3.0.2)\n",
            "Requirement already satisfied: matplotlib in /usr/local/lib/python3.10/dist-packages (from music21) (3.7.1)\n",
            "Requirement already satisfied: more-itertools in /usr/local/lib/python3.10/dist-packages (from music21) (10.1.0)\n",
            "Requirement already satisfied: numpy in /usr/local/lib/python3.10/dist-packages (from music21) (1.23.5)\n",
            "Requirement already satisfied: requests in /usr/local/lib/python3.10/dist-packages (from music21) (2.31.0)\n",
            "Requirement already satisfied: webcolors>=1.5 in /usr/local/lib/python3.10/dist-packages (from music21) (1.13)\n",
            "Requirement already satisfied: contourpy>=1.0.1 in /usr/local/lib/python3.10/dist-packages (from matplotlib->music21) (1.2.0)\n",
            "Requirement already satisfied: cycler>=0.10 in /usr/local/lib/python3.10/dist-packages (from matplotlib->music21) (0.12.1)\n",
            "Requirement already satisfied: fonttools>=4.22.0 in /usr/local/lib/python3.10/dist-packages (from matplotlib->music21) (4.45.1)\n",
            "Requirement already satisfied: kiwisolver>=1.0.1 in /usr/local/lib/python3.10/dist-packages (from matplotlib->music21) (1.4.5)\n",
            "Requirement already satisfied: packaging>=20.0 in /usr/local/lib/python3.10/dist-packages (from matplotlib->music21) (23.2)\n",
            "Requirement already satisfied: pillow>=6.2.0 in /usr/local/lib/python3.10/dist-packages (from matplotlib->music21) (9.4.0)\n",
            "Requirement already satisfied: pyparsing>=2.3.1 in /usr/local/lib/python3.10/dist-packages (from matplotlib->music21) (3.1.1)\n",
            "Requirement already satisfied: python-dateutil>=2.7 in /usr/local/lib/python3.10/dist-packages (from matplotlib->music21) (2.8.2)\n",
            "Requirement already satisfied: charset-normalizer<4,>=2 in /usr/local/lib/python3.10/dist-packages (from requests->music21) (3.3.2)\n",
            "Requirement already satisfied: idna<4,>=2.5 in /usr/local/lib/python3.10/dist-packages (from requests->music21) (3.6)\n",
            "Requirement already satisfied: urllib3<3,>=1.21.1 in /usr/local/lib/python3.10/dist-packages (from requests->music21) (2.0.7)\n",
            "Requirement already satisfied: certifi>=2017.4.17 in /usr/local/lib/python3.10/dist-packages (from requests->music21) (2023.11.17)\n",
            "Requirement already satisfied: six>=1.5 in /usr/local/lib/python3.10/dist-packages (from python-dateutil>=2.7->matplotlib->music21) (1.16.0)\n"
          ]
        }
      ],
      "source": [
        "!pip install music21"
      ]
    },
    {
      "cell_type": "code",
      "execution_count": 3,
      "metadata": {
        "id": "c8S-XY9BUQT3"
      },
      "outputs": [],
      "source": [
        "from music21 import *\n",
        "def read_midi(file):\n",
        "\n",
        "    print(\"Loading Music File:\",file)\n",
        "\n",
        "    notes=[]\n",
        "    notes_to_parse = None\n",
        "\n",
        "    #parsing a midi file\n",
        "    midi = converter.parse(file)\n",
        "\n",
        "    #grouping based on different instruments\n",
        "    s2 = instrument.partitionByInstrument(midi)\n",
        "\n",
        "    #Looping over all the instruments\n",
        "    for part in s2.parts:\n",
        "\n",
        "        #select elements of only piano\n",
        "        if 'Piano' in str(part):\n",
        "\n",
        "            notes_to_parse = part.recurse()\n",
        "\n",
        "            #finding whether a particular element is note or a chord\n",
        "            for element in notes_to_parse:\n",
        "\n",
        "                #note\n",
        "                if isinstance(element, note.Note):\n",
        "                    notes.append(str(element.pitch))\n",
        "\n",
        "                #chord\n",
        "                elif isinstance(element, chord.Chord):\n",
        "                    notes.append('.'.join(str(n) for n in element.normalOrder))\n",
        "\n",
        "    return np.array(notes)"
      ]
    },
    {
      "cell_type": "code",
      "execution_count": 4,
      "metadata": {
        "colab": {
          "base_uri": "https://localhost:8080/"
        },
        "id": "z87IqZAPUQT3",
        "outputId": "ed5afae9-3801-4c21-ccf9-e6d0bba53522"
      },
      "outputs": [
        {
          "output_type": "stream",
          "name": "stdout",
          "text": [
            "Loading Music File: /content/Sitar, Bansuri Tabla trio  Rishab Prasanna & Sandip Banerjee & Nicolas Delaigue.mid\n",
            "Loading Music File: /content/Morning Meditation Ragas On Sitar - Peaceful Music for Relaxation - B. Sivaramakrishna Rao.mid\n",
            "Loading Music File: /content/Heal Ragas __ flute and sitar by Hariprasad chorsia__ calm mind__ Thumri in raag bhairavi.mid\n",
            "Loading Music File: /content/Pandit Ravi Shankar - Morning Meditation Ragas On Sitar  Indian Classical Instrumental Music.mid\n"
          ]
        },
        {
          "output_type": "stream",
          "name": "stderr",
          "text": [
            "<ipython-input-4-1c587396b50b>:14: VisibleDeprecationWarning: Creating an ndarray from ragged nested sequences (which is a list-or-tuple of lists-or-tuples-or ndarrays with different lengths or shapes) is deprecated. If you meant to do this, you must specify 'dtype=object' when creating the ndarray.\n",
            "  notes_array = np.array([read_midi(path+i) for i in files])\n"
          ]
        }
      ],
      "source": [
        "#for listing down the file names\n",
        "import os\n",
        "\n",
        "#Array Processing\n",
        "import numpy as np\n",
        "\n",
        "#specify the path\n",
        "path='/content/'\n",
        "\n",
        "#read all the filenames\n",
        "files=[i for i in os.listdir(path) if i.endswith(\".mid\")]\n",
        "\n",
        "#reading each midi file\n",
        "notes_array = np.array([read_midi(path+i) for i in files])\n"
      ]
    },
    {
      "cell_type": "code",
      "execution_count": 5,
      "metadata": {
        "colab": {
          "base_uri": "https://localhost:8080/"
        },
        "id": "YEsl0xJiUQT3",
        "outputId": "657a7d43-d343-4552-e16b-96ab9620b365"
      },
      "outputs": [
        {
          "output_type": "stream",
          "name": "stdout",
          "text": [
            "4014\n"
          ]
        }
      ],
      "source": [
        "#converting 2D array into 1D array\n",
        "notes_ = [element for note_ in notes_array for element in note_]\n",
        "#No. of unique notes\n",
        "unique_notes = list(set(notes_))\n",
        "print(len(unique_notes))\n",
        "# unique_notes"
      ]
    },
    {
      "cell_type": "code",
      "execution_count": 6,
      "metadata": {
        "colab": {
          "base_uri": "https://localhost:8080/",
          "height": 445
        },
        "id": "eEtLM_cuUQT3",
        "outputId": "f682fa4e-dde6-4a8f-ecc0-94b122ba6083"
      },
      "outputs": [
        {
          "output_type": "display_data",
          "data": {
            "text/plain": [
              "<Figure size 500x500 with 1 Axes>"
            ],
            "image/png": "[encoded data removed]"
          },
          "metadata": {
            "image/png": {
              "width": 466,
              "height": 428
            }
          }
        }
      ],
      "source": [
        "#importing library\n",
        "from collections import Counter\n",
        "\n",
        "#computing frequency of each note\n",
        "freq = dict(Counter(notes_))\n",
        "\n",
        "#library for visualiation\n",
        "import matplotlib.pyplot as plt\n",
        "\n",
        "#consider only the frequencies\n",
        "no=[count for _,count in freq.items()]\n",
        "\n",
        "#set the figure size\n",
        "plt.figure(figsize=(5,5))\n",
        "\n",
        "bins = [i * 10 for i in range(int(max(no) // 10) + 2)]\n",
        "\n",
        "#plot\n",
        "plt.hist(no, bins = bins)\n",
        "\n",
        "plt.xlim(0, 200)\n",
        "\n",
        "plt.show()"
      ]
    },
    {
      "cell_type": "code",
      "execution_count": 7,
      "metadata": {
        "colab": {
          "base_uri": "https://localhost:8080/"
        },
        "id": "1jYgo6OLUQT3",
        "outputId": "8548b079-7ed3-4b33-d79b-46a9c9b3599a"
      },
      "outputs": [
        {
          "output_type": "stream",
          "name": "stdout",
          "text": [
            "472\n"
          ]
        }
      ],
      "source": [
        "frequent_notes = [note_ for note_, count in freq.items() if count>= 20]\n",
        "print(len(frequent_notes))"
      ]
    },
    {
      "cell_type": "code",
      "execution_count": 8,
      "metadata": {
        "colab": {
          "base_uri": "https://localhost:8080/"
        },
        "id": "veDNGYTLUQT3",
        "outputId": "1628412c-f898-465f-bfed-5c010a6d606e"
      },
      "outputs": [
        {
          "output_type": "stream",
          "name": "stderr",
          "text": [
            "<ipython-input-8-3eb6be2fd841>:10: VisibleDeprecationWarning: Creating an ndarray from ragged nested sequences (which is a list-or-tuple of lists-or-tuples-or ndarrays with different lengths or shapes) is deprecated. If you meant to do this, you must specify 'dtype=object' when creating the ndarray.\n",
            "  new_music = np.array(new_music)\n"
          ]
        }
      ],
      "source": [
        "new_music=[]\n",
        "\n",
        "for notes in notes_array:\n",
        "    temp=[]\n",
        "    for note_ in notes:\n",
        "        if note_ in frequent_notes:\n",
        "            temp.append(note_)\n",
        "    new_music.append(temp)\n",
        "\n",
        "new_music = np.array(new_music)"
      ]
    },
    {
      "cell_type": "code",
      "execution_count": 18,
      "metadata": {
        "id": "ceXPRHGoUQT3",
        "colab": {
          "base_uri": "https://localhost:8080/"
        },
        "outputId": "4b1b3d10-c1de-4e1c-c386-7be85b2ca631"
      },
      "outputs": [
        {
          "output_type": "stream",
          "name": "stdout",
          "text": [
            "(43217, 64) (43217,)\n",
            "[['2.4.9' '3.5.6' 'D4' ... '4.9' 'D5' 'A6']\n",
            " ['3.5.6' 'D4' 'C#2' ... 'D5' 'A6' 'D7']\n",
            " ['D4' 'C#2' '9.2' ... 'A6' 'D7' '6']\n",
            " ...\n",
            " ['1.4' '10.3' '10.1' ... 'B3' 'E-7' 'B3']\n",
            " ['10.3' '10.1' '10.11.3' ... 'E-7' 'B3' '11']\n",
            " ['10.1' '10.11.3' '1.2.4' ... 'B3' '11' 'F#5']]\n",
            "['D7' '6' 'A4' ... '11' 'F#5' '11']\n"
          ]
        }
      ],
      "source": [
        "no_of_timesteps = 64\n",
        "x = []\n",
        "y = []\n",
        "\n",
        "for note_ in new_music:\n",
        "    for i in range(0, len(note_) - no_of_timesteps, 1):\n",
        "\n",
        "        #preparing input and output sequences\n",
        "        input_ = note_[i:i + no_of_timesteps]\n",
        "        output = note_[i + no_of_timesteps]\n",
        "\n",
        "        x.append(input_)\n",
        "        y.append(output)\n",
        "\n",
        "x=np.array(x)\n",
        "y=np.array(y)\n",
        "print(x.shape, y.shape)\n",
        "print(x)\n",
        "print(y)"
      ]
    },
    {
      "cell_type": "code",
      "execution_count": 19,
      "metadata": {
        "id": "uJ3Ws1JFUQT4",
        "colab": {
          "base_uri": "https://localhost:8080/"
        },
        "outputId": "499b56a7-43a4-4d33-9fc7-34913753a978"
      },
      "outputs": [
        {
          "output_type": "stream",
          "name": "stdout",
          "text": [
            "['3.8', '6', '3.4.7', '4.6.8', '4.7.8.9.11', 'D6', 'F4', '3.4.5.6.7.8.9.10.11.1', 'F#5', '4.7.8', '1.2.3.4.5.7.8.9.10.11', '8.11.1.3', '2.4.6.9', '1.5.8', '3.4.8.11', '3.6', '8.11.1', '10.2.5', 'A5', '11.2', '1.4.8', '4.6.7.11', '3.4.5', '6.7.8.9', 'D7', '8.11.3', '7.8', '6.9.11.2', '1.2.3.4.6.7.8.9.10', '1.2.4.6.7', '1.3', '6.8', '3.5.8.9', '10.2.3.4.5', '11.1', '6.7.8', '2.3.8', '3.5', '3', '4.5.6.7.8.9.10.11.0.1.2', '3.9', '4.5.6.7.8.9.11.0.1.2', '10.2.4', '1.2.3.4.5.6.8.9.10.11', '4.8.9.11', '6.7.9', '4.7.8.9', '2.3.4.5.6.7.8.9.10.0', '1.5.9', '10.1.3', '4.5.10', '11.0.1', '0.1.2.3.4.5.6.7.9.10', '1.2.3.4.5.6.7.9.10.11', 'E-4', '1.4', '6.10.1.2', '2.4', '6.7.8.9.10.11.0.1.2.3.4', '5.8', '4.9.10', '1.5', '4.6', 'C6', '4.8', '8.0.1', '4.5.8.9', 'E-5', '10.1.5', '9.0.3.5', '11.0.4', '4.5.6.7.8.9.10.11.1.2', '4.5.6.7.8', 'A2', '5.8.11.1', '1.2.5', '1.5.6.7', '9.11.0', '1.2.5.6.7.9', '1.2.3.4.5', '7.11.2', '2.4.5.9', '8.9.10', '11.1.3.5', '6.8.11', '11.1.6', '10.11', '0.4.5', '8.9.1', '5.6.7.8', '6.9.10', '2', 'D2', '3.4', '9.1.4', '2.3.4.5', '9.10.2.4', '6.7.11', 'A6', '1.6', '9.10.2.3.4', '9.10.11.0.1.2.3.4.5.6.7', '1.3.5.8', '1', '11.4', '0.3.4', '8.11.1.4', '8.11.1.4.5', '0.1.5', '5.6.7', '2.6.7', '1.2.5.8', '7.11', '1.7', 'G6', '2.4.8', '2.6.7.9', 'G7', '5.11', '1.2.5.6.8.9', '2.4.5.6.7.9', '10.2.3', '1.2.3.4.5.6.7.10', '10.1.4.6', '8.9.2', 'E7', '1.2.5.6.7', '2.6.9', '6.11', '9.1', '11.1.3.4', '4.5.6.7', '4.5.7', '4.7.9', '10.1.2.3', '6.7.9.10', '2.3.4.5.6.9.10', '7.0', '9.1.2', '2.6.8', '2.3.6.7', '6.8.9', '4.6.7.8', '9.10.11', '2.8', 'B-4', '6.7', '11.1.3', '6.7.9.1.2', '8.0.3', 'C#4', '5.10', 'F7', '4.9', 'C5', '6.11.0', '1.3.4.8', '9.10', '7.10', '2.3.4', '2.3.4.5.6.7.8.9.10', 'E5', '11.0.2', '1.3.5', 'E-6', '2.7', '1.5.6', '3.4.6.7', '9.0.1.2', '6.10', '0.4.8', '5', '1.2.4.8', '8.9.10.11.0.1.2.3.4.5.6', '9.0.4', '4.5.6', '1.3.8', 'F5', '1.2', 'B-3', '3.5.10', '7.8.9.10.11.0.1.2.3.4.5', '1.2.3.4.5.6.7.8.9.10', 'G#4', '4.5.8', '11.2.6', '1.3.6', '8.11', '1.2.3.4.5.6.7.8.10.11', '7.9', '1.2.6', '2.5.9', '10.11.4', '2.4.5.6.7.8.9.10', '5.6.7.8.9.1', '11.2.4', '8.11.2.4', '5.6.8.9', '0.6', '3.4.5.10', '11.4.5', '4.5.6.11', '6.7.8.1', '11.0.1.2', '1.2.3.4.5.6.8.9.10', 'G4', '8.9', '6.7.8.9.10.11.1.2.3.4', '11.1.5', '1.2.3.5.6.7.8.9.10', '11.1.4', '8.10.1.3', '7.8.11', '10.2', '7.8.9', '7.9.11', '2.4.5.6.9.10', '11.3', '1.2.4.5', '2.4.5.6.7', '2.7.8', 'C4', '1.2.4.5.6', '7.9.2', '2.4.6.7.9', '4.5', '0.1.5.8', 'F#7', '6.7.9.11', '2.4.5.6.7.8.9.10.11', '10.11.0.1.2.3.4.5.6.7.8', 'G#2', '2.6.9.10', '3.6.8', '2.5.6.7.9', '8.11.0', '11.3.5', 'C#5', '1.2.3.4', 'B-5', '9.11.2', '2.3.5', '9.10.2', 'C#2', 'D3', 'E4', '2.5.6.7.8.9', '8.1', '9.11.1.2', '3.4.5.6.7.8.9.10.11.0.1', '4.5.6.8', '10.11.3', '0.4', '0', 'A3', '3.4.6.8.11', '2.3.4.9', '5.6.11', '3.6.7', '4', '1.5.7.8', '11', '8.0', '1.2.6.7.8', '2.4.5.6.9', '1.4.6.9', '4.7.11', '8.10.3', 'F6', '1.2.4.6', '4.6.7.8.9', '11.3.4', 'F2', '1.3.4.5', '5.6', '9.2', '1.2.4.6.9', '4.10', '1.4.5.6', '3.5.6.7', '4.5.9', '4.8.11', '0.1.2', 'F#6', 'C#6', 'B3', '1.2.4.6.7.8.9', 'G5', '1.2.7', '8.1.2', '1.2.5.6', '5.6.8', '0.1.2.3.4.5.6.7.8.9.10.11', '1.3.7', 'B5', '11.3.4.5', '4.6.7.9', '10', 'F#2', 'C7', '2.4.8.9', '10.2.3.4', '0.2', '2.3.4.5.6.7.8.9.10.11', '8', '5.6.9', '1.4.5.8', '0.1', '5.8.11', '1.2.7.8', '11.1.4.5', '0.1.2.3.4.5.6.8.9.10', '2.5.6.9', '3.4.5.8', '11.3.6', '9.11.0.2', '5.6.7.9', '1.2.3.4.5.7.8.9.10', '4.8.9', 'B6', '1.5.7', '6.7.8.11', '8.9.0', '8.10.1', '1.6.7', '2.4.7.9', '1.2.5.6.7.8', '0.3.5', '9', '1.2.6.7', '6.8.1', '0.2.7', '1.2.3.4.5.6.7.8.9.10.11', '3.5.6', '10.0', '7', '11.1.2.4.5.6.7.8.9', '2.6.10', '6.10.1', '9.1.2.3', '2.3.4.5.6.7.8.9.10.11.0', '3.7', '10.11.3.4', '9.11.4', '5.7', '5.7.8', '9.2.3', '2.3.4.5.6.8.9.10', '1.2.4.5.6.7.8.9.10', '7.0.1', 'A1', '4.5.6.7.9', '3.7.8', '2.6.7.8', '5.9', '8.9.1.2', '4.6.7.8.11', '11.2.3', '10.1.2', '2.6.8.9', '7.8.9.2', '5.8.10', '2.4.9', '6.9.11', '2.6.7.8.9', '9.11', '0.1.2.3.4.6.7.8.9.10', '9.10.11.2', '1.4.6', '2.5', '1.5.6.8', 'D4', '2.4.5', '9.11.2.4', '4.5.8.11', '2.5.6.7.8', '0.1.2.3.4.5.6.7.8.9.10', '2.3.7', '2.3.4.5.9.10', '4.6.8.9', '11.0.1.2.3.4.5.6.7.8.9', 'G#6', '1.2.3.4.5.6.7.8.9', '3.5.9', '3.7.8.9', '2.6', '1.2.6.9', '7.8.1', '6.7.8.9.10.11.1.2.4', '5.6.7.8.9.10.11.1.2.3', '8.10', '8.9.1.4', '4.6.8.11', '6.7.9.1', '6.9.1', '1.2.3.4.5.6.7.8.9.11', 'E2', '2.3', '1.2.6.8.9', '2.5.6', 'C#7', '4.7.8.11', '8.9.11', '10.1', '1.4.5', '0.5', '0.4.6', 'B-6', 'A4', 'D5', '0.1.2.3.4.5.6.7.8.9', '10.11.0.1.2.3.4.5.6.7', '10.3', '11.1.3.4.5', '2.4.6', '1.2.5.6.7.8.9', 'B4', '3.4.7.8', '1.2.3', '0.4.7', 'E-7', '1.4.7', '3.8.9', '3.5.8', '11.1.2', '6.7.8.9.1.2', '4.6.7', '3.4.6', '6.9', '5.8.9', '1.5.6.7.8', '9.10.1', '9.1.2.4', '5.9.0', '1.2.4', '3.4.9', '2.5.7', 'F#4', '2.5.6.7', '2.4.6.7', '3.4.8', '5.8.10.1', '4.5.6.9', '11.0', '3.4.8.9', '4.6.11', '2.4.7', '8.9.1.3', 'G2', '2.4.6.9.10', '5.6.7.8.9.10.11.0.1.2.3', '3.7.10', '4.7', 'G#5', 'E-2', '6.7.10', '4.6.9', '9.0', '7.8.9.11', '1.3.4', '9.0.2', '3.4.5.6', '2.3.6', '11.0.3', '8.9.10.11.0.1.2.3.4.6', '2.4.5.6', 'E6', '2.5.8', '9.1.3', '10.3.4', '0.2.6', '0.3']\n"
          ]
        }
      ],
      "source": [
        "unique_x = list(set(x.ravel()))\n",
        "x_note_to_int = dict((note_, number) for number, note_ in enumerate(unique_x))\n",
        "print(unique_x)"
      ]
    },
    {
      "cell_type": "code",
      "execution_count": 20,
      "metadata": {
        "id": "LxVSIJOCUQT4",
        "colab": {
          "base_uri": "https://localhost:8080/"
        },
        "outputId": "7f4915ff-980f-4100-9746-6c7c872ad362"
      },
      "outputs": [
        {
          "output_type": "execute_result",
          "data": {
            "text/plain": [
              "array([[362, 333, 371, ..., 153, 409,  98],\n",
              "       [333, 371, 243, ..., 409,  98,  24],\n",
              "       [371, 243, 275, ...,  98,  24,   1],\n",
              "       ...,\n",
              "       [ 55, 412, 403, ..., 285, 420, 285],\n",
              "       [412, 403, 251, ..., 420, 285, 261],\n",
              "       [403, 251, 434, ..., 285, 261,   8]])"
            ]
          },
          "metadata": {},
          "execution_count": 20
        }
      ],
      "source": [
        "#preparing input sequences\n",
        "x_seq=[]\n",
        "for i in x:\n",
        "    temp=[]\n",
        "    for j in i:\n",
        "        #assigning unique integer to every note\n",
        "        temp.append(x_note_to_int[j])\n",
        "    x_seq.append(temp)\n",
        "\n",
        "x_seq = np.array(x_seq)\n",
        "x_seq"
      ]
    },
    {
      "cell_type": "code",
      "execution_count": 21,
      "metadata": {
        "id": "_CCvqAHQUQT4",
        "colab": {
          "base_uri": "https://localhost:8080/"
        },
        "outputId": "e4a29ad7-65b2-48f9-f5d9-371ec932ced5"
      },
      "outputs": [
        {
          "output_type": "execute_result",
          "data": {
            "text/plain": [
              "array([ 24,   1, 408, ..., 261,   8, 261])"
            ]
          },
          "metadata": {},
          "execution_count": 21
        }
      ],
      "source": [
        "unique_y = list(set(y))\n",
        "y_note_to_int = dict((note_, number) for number, note_ in enumerate(unique_y))\n",
        "y_seq=np.array([y_note_to_int[i] for i in y])\n",
        "y_seq"
      ]
    },
    {
      "cell_type": "code",
      "execution_count": 22,
      "metadata": {
        "id": "WryGOTFuUQT4"
      },
      "outputs": [],
      "source": [
        "from sklearn.model_selection import train_test_split\n",
        "x_tr, x_val, y_tr, y_val = train_test_split(x_seq,y_seq,test_size=0.2,random_state=0)"
      ]
    },
    {
      "cell_type": "code",
      "execution_count": null,
      "metadata": {
        "id": "0XBLgDnaUQT4"
      },
      "outputs": [],
      "source": [
        "# def lstm():\n",
        "#   model = Sequential()\n",
        "#   model.add(LSTM(128,return_sequences=True))\n",
        "#   model.add(LSTM(128))\n",
        "#   model.add(Dense(256))\n",
        "#   model.add(Activation('relu'))\n",
        "#   model.add(Dense(n_vocab))\n",
        "#   model.add(Activation('softmax'))\n",
        "#   model.compile(loss='sparse_categorical_crossentropy', optimizer='adam')\n",
        "#   return model"
      ]
    },
    {
      "cell_type": "code",
      "execution_count": 27,
      "metadata": {
        "colab": {
          "base_uri": "https://localhost:8080/"
        },
        "id": "-aNSoEE4UQT4",
        "outputId": "fb879ead-20ac-4d1a-8046-4705e48283fa"
      },
      "outputs": [
        {
          "output_type": "stream",
          "name": "stdout",
          "text": [
            "Model: \"sequential_2\"\n",
            "_________________________________________________________________\n",
            " Layer (type)                Output Shape              Param #   \n",
            "=================================================================\n",
            " embedding_2 (Embedding)     (None, 64, 100)           47200     \n",
            "                                                                 \n",
            " conv1d_6 (Conv1D)           (None, 64, 64)            19264     \n",
            "                                                                 \n",
            " dropout_6 (Dropout)         (None, 64, 64)            0         \n",
            "                                                                 \n",
            " max_pooling1d_6 (MaxPoolin  (None, 32, 64)            0         \n",
            " g1D)                                                            \n",
            "                                                                 \n",
            " conv1d_7 (Conv1D)           (None, 32, 128)           24704     \n",
            "                                                                 \n",
            " dropout_7 (Dropout)         (None, 32, 128)           0         \n",
            "                                                                 \n",
            " max_pooling1d_7 (MaxPoolin  (None, 16, 128)           0         \n",
            " g1D)                                                            \n",
            "                                                                 \n",
            " conv1d_8 (Conv1D)           (None, 16, 256)           98560     \n",
            "                                                                 \n",
            " dropout_8 (Dropout)         (None, 16, 256)           0         \n",
            "                                                                 \n",
            " max_pooling1d_8 (MaxPoolin  (None, 8, 256)            0         \n",
            " g1D)                                                            \n",
            "                                                                 \n",
            " global_max_pooling1d_2 (Gl  (None, 256)               0         \n",
            " obalMaxPooling1D)                                               \n",
            "                                                                 \n",
            " dense_4 (Dense)             (None, 256)               65792     \n",
            "                                                                 \n",
            " dense_5 (Dense)             (None, 472)               121304    \n",
            "                                                                 \n",
            "=================================================================\n",
            "Total params: 376824 (1.44 MB)\n",
            "Trainable params: 376824 (1.44 MB)\n",
            "Non-trainable params: 0 (0.00 Byte)\n",
            "_________________________________________________________________\n"
          ]
        }
      ],
      "source": [
        "from keras.layers import (Dense,\n",
        "                            Flatten,Conv1D,Embedding,MaxPool1D,Dropout,GlobalMaxPool1D)\n",
        "from keras.models import Sequential\n",
        "from keras.callbacks import ModelCheckpoint\n",
        "# import keras.backend as K\n",
        "\n",
        "# K.clear_session()\n",
        "model = Sequential()\n",
        "\n",
        "#embedding layer\n",
        "model.add(Embedding(len(unique_x), 100, input_length=64,trainable=True))\n",
        "\n",
        "model.add(Conv1D(64,3, padding='causal',activation='relu'))\n",
        "model.add(Dropout(0.2))\n",
        "model.add(MaxPool1D(2))\n",
        "\n",
        "model.add(Conv1D(128,3,activation='relu',dilation_rate=2,padding='causal'))\n",
        "model.add(Dropout(0.2))\n",
        "model.add(MaxPool1D(2))\n",
        "\n",
        "model.add(Conv1D(256,3,activation='relu',dilation_rate=4,padding='causal'))\n",
        "model.add(Dropout(0.2))\n",
        "model.add(MaxPool1D(2))\n",
        "\n",
        "#model.add(Conv1D(256,5,activation='relu'))\n",
        "model.add(GlobalMaxPool1D())\n",
        "\n",
        "model.add(Dense(256, activation='relu'))\n",
        "model.add(Dense(len(unique_y), activation='softmax'))\n",
        "\n",
        "model.compile(loss='sparse_categorical_crossentropy', optimizer='adam',metrics=['acc'])\n",
        "\n",
        "model.summary()"
      ]
    },
    {
      "cell_type": "code",
      "execution_count": 28,
      "metadata": {
        "id": "a8kpA4sGUQT4"
      },
      "outputs": [],
      "source": [
        "mc=ModelCheckpoint('best_model.h5', monitor='val_acc', mode='max', save_best_only=True,verbose=1)"
      ]
    },
    {
      "cell_type": "code",
      "execution_count": 29,
      "metadata": {
        "id": "DyIi4vuZUQT4"
      },
      "outputs": [],
      "source": [
        "from keras.callbacks import ModelCheckpoint\n",
        "filepath = \"../working/saved_models-improvement-{epoch:02d}-{val_acc:.2f}.h5\"\n",
        "checkpoint = ModelCheckpoint(filepath,monitor = 'val_acc',verbose = 1,save_best_only = True,mode = 'max')\n",
        "callbacks_list = [checkpoint]"
      ]
    },
    {
      "cell_type": "code",
      "execution_count": 31,
      "metadata": {
        "colab": {
          "base_uri": "https://localhost:8080/"
        },
        "id": "UPYgPXBPUQT5",
        "outputId": "8ceb5f17-4ab2-4bb8-8dbc-9cb035f70199"
      },
      "outputs": [
        {
          "output_type": "stream",
          "name": "stdout",
          "text": [
            "Epoch 1/100\n",
            "271/271 [==============================] - 37s 135ms/step - loss: 4.7814 - acc: 0.0852 - val_loss: 5.0076 - val_acc: 0.0828\n",
            "Epoch 2/100\n",
            "271/271 [==============================] - 38s 139ms/step - loss: 4.7491 - acc: 0.0871 - val_loss: 4.9658 - val_acc: 0.0860\n",
            "Epoch 3/100\n",
            "271/271 [==============================] - 37s 135ms/step - loss: 4.7212 - acc: 0.0866 - val_loss: 4.9618 - val_acc: 0.0875\n",
            "Epoch 4/100\n",
            "271/271 [==============================] - 37s 136ms/step - loss: 4.6936 - acc: 0.0902 - val_loss: 4.9463 - val_acc: 0.0875\n",
            "Epoch 5/100\n",
            "271/271 [==============================] - 36s 135ms/step - loss: 4.6605 - acc: 0.0915 - val_loss: 4.9649 - val_acc: 0.0897\n",
            "Epoch 6/100\n",
            "271/271 [==============================] - 37s 136ms/step - loss: 4.6296 - acc: 0.0932 - val_loss: 4.9304 - val_acc: 0.0887\n",
            "Epoch 7/100\n",
            "271/271 [==============================] - 36s 134ms/step - loss: 4.5949 - acc: 0.0938 - val_loss: 4.9303 - val_acc: 0.0898\n",
            "Epoch 8/100\n",
            "271/271 [==============================] - 38s 141ms/step - loss: 4.5605 - acc: 0.0974 - val_loss: 4.9278 - val_acc: 0.0886\n",
            "Epoch 9/100\n",
            "271/271 [==============================] - 37s 135ms/step - loss: 4.5212 - acc: 0.0989 - val_loss: 4.9411 - val_acc: 0.0900\n",
            "Epoch 10/100\n",
            "271/271 [==============================] - 37s 136ms/step - loss: 4.4758 - acc: 0.1012 - val_loss: 4.9192 - val_acc: 0.0895\n",
            "Epoch 11/100\n",
            "271/271 [==============================] - 37s 135ms/step - loss: 4.4299 - acc: 0.1035 - val_loss: 4.9499 - val_acc: 0.0873\n",
            "Epoch 12/100\n",
            "271/271 [==============================] - 43s 160ms/step - loss: 4.3894 - acc: 0.1046 - val_loss: 4.9415 - val_acc: 0.0845\n",
            "Epoch 13/100\n",
            "271/271 [==============================] - 38s 139ms/step - loss: 4.3491 - acc: 0.1053 - val_loss: 4.9533 - val_acc: 0.0887\n",
            "Epoch 14/100\n",
            "271/271 [==============================] - 36s 134ms/step - loss: 4.3016 - acc: 0.1088 - val_loss: 4.9801 - val_acc: 0.0811\n",
            "Epoch 15/100\n",
            "271/271 [==============================] - 42s 153ms/step - loss: 4.2571 - acc: 0.1111 - val_loss: 4.9864 - val_acc: 0.0820\n",
            "Epoch 16/100\n",
            "271/271 [==============================] - 40s 148ms/step - loss: 4.2139 - acc: 0.1129 - val_loss: 4.9906 - val_acc: 0.0802\n",
            "Epoch 17/100\n",
            "271/271 [==============================] - 36s 133ms/step - loss: 4.1715 - acc: 0.1143 - val_loss: 5.0074 - val_acc: 0.0804\n",
            "Epoch 18/100\n",
            "271/271 [==============================] - 38s 142ms/step - loss: 4.1217 - acc: 0.1166 - val_loss: 5.0205 - val_acc: 0.0814\n",
            "Epoch 19/100\n",
            "271/271 [==============================] - 36s 133ms/step - loss: 4.0864 - acc: 0.1205 - val_loss: 5.0341 - val_acc: 0.0789\n",
            "Epoch 20/100\n",
            "271/271 [==============================] - 38s 142ms/step - loss: 4.0484 - acc: 0.1186 - val_loss: 5.0426 - val_acc: 0.0816\n",
            "Epoch 21/100\n",
            "271/271 [==============================] - 37s 135ms/step - loss: 4.0044 - acc: 0.1217 - val_loss: 5.0612 - val_acc: 0.0794\n",
            "Epoch 22/100\n",
            "271/271 [==============================] - 38s 141ms/step - loss: 3.9704 - acc: 0.1257 - val_loss: 5.0870 - val_acc: 0.0786\n",
            "Epoch 23/100\n",
            "271/271 [==============================] - 36s 135ms/step - loss: 3.9424 - acc: 0.1262 - val_loss: 5.1014 - val_acc: 0.0729\n",
            "Epoch 24/100\n",
            "271/271 [==============================] - 38s 139ms/step - loss: 3.9087 - acc: 0.1279 - val_loss: 5.1215 - val_acc: 0.0739\n",
            "Epoch 25/100\n",
            "271/271 [==============================] - 37s 135ms/step - loss: 3.8741 - acc: 0.1300 - val_loss: 5.1419 - val_acc: 0.0685\n",
            "Epoch 26/100\n",
            "271/271 [==============================] - 38s 138ms/step - loss: 3.8448 - acc: 0.1315 - val_loss: 5.1469 - val_acc: 0.0718\n",
            "Epoch 27/100\n",
            "271/271 [==============================] - 36s 135ms/step - loss: 3.8088 - acc: 0.1337 - val_loss: 5.2023 - val_acc: 0.0685\n",
            "Epoch 28/100\n",
            "271/271 [==============================] - 37s 138ms/step - loss: 3.7856 - acc: 0.1364 - val_loss: 5.1916 - val_acc: 0.0703\n",
            "Epoch 29/100\n",
            "271/271 [==============================] - 36s 134ms/step - loss: 3.7646 - acc: 0.1388 - val_loss: 5.2098 - val_acc: 0.0684\n",
            "Epoch 30/100\n",
            "271/271 [==============================] - 37s 136ms/step - loss: 3.7401 - acc: 0.1385 - val_loss: 5.2261 - val_acc: 0.0661\n",
            "Epoch 31/100\n",
            "271/271 [==============================] - 36s 132ms/step - loss: 3.7187 - acc: 0.1422 - val_loss: 5.2428 - val_acc: 0.0696\n",
            "Epoch 32/100\n",
            "271/271 [==============================] - 38s 141ms/step - loss: 3.6928 - acc: 0.1417 - val_loss: 5.2739 - val_acc: 0.0651\n",
            "Epoch 33/100\n",
            "271/271 [==============================] - 36s 134ms/step - loss: 3.6686 - acc: 0.1436 - val_loss: 5.2828 - val_acc: 0.0698\n",
            "Epoch 34/100\n",
            "271/271 [==============================] - 38s 140ms/step - loss: 3.6550 - acc: 0.1455 - val_loss: 5.3096 - val_acc: 0.0672\n",
            "Epoch 35/100\n",
            "271/271 [==============================] - 36s 134ms/step - loss: 3.6246 - acc: 0.1483 - val_loss: 5.3107 - val_acc: 0.0640\n",
            "Epoch 36/100\n",
            "271/271 [==============================] - 37s 138ms/step - loss: 3.6119 - acc: 0.1479 - val_loss: 5.3218 - val_acc: 0.0654\n",
            "Epoch 37/100\n",
            "271/271 [==============================] - 37s 135ms/step - loss: 3.5873 - acc: 0.1495 - val_loss: 5.3361 - val_acc: 0.0643\n",
            "Epoch 38/100\n",
            "271/271 [==============================] - 37s 136ms/step - loss: 3.5740 - acc: 0.1505 - val_loss: 5.3688 - val_acc: 0.0654\n",
            "Epoch 39/100\n",
            "271/271 [==============================] - 36s 135ms/step - loss: 3.5544 - acc: 0.1507 - val_loss: 5.3828 - val_acc: 0.0604\n",
            "Epoch 40/100\n",
            "271/271 [==============================] - 38s 140ms/step - loss: 3.5389 - acc: 0.1547 - val_loss: 5.3715 - val_acc: 0.0661\n",
            "Epoch 41/100\n",
            "271/271 [==============================] - 36s 134ms/step - loss: 3.5185 - acc: 0.1568 - val_loss: 5.3993 - val_acc: 0.0640\n",
            "Epoch 42/100\n",
            "271/271 [==============================] - 37s 136ms/step - loss: 3.5043 - acc: 0.1566 - val_loss: 5.4317 - val_acc: 0.0614\n",
            "Epoch 43/100\n",
            "271/271 [==============================] - 36s 135ms/step - loss: 3.4975 - acc: 0.1585 - val_loss: 5.4387 - val_acc: 0.0566\n",
            "Epoch 44/100\n",
            "271/271 [==============================] - 38s 139ms/step - loss: 3.4833 - acc: 0.1618 - val_loss: 5.4578 - val_acc: 0.0587\n",
            "Epoch 45/100\n",
            "271/271 [==============================] - 36s 134ms/step - loss: 3.4606 - acc: 0.1641 - val_loss: 5.4573 - val_acc: 0.0565\n",
            "Epoch 46/100\n",
            "271/271 [==============================] - 37s 137ms/step - loss: 3.4595 - acc: 0.1614 - val_loss: 5.4787 - val_acc: 0.0628\n",
            "Epoch 47/100\n",
            "271/271 [==============================] - 36s 134ms/step - loss: 3.4405 - acc: 0.1635 - val_loss: 5.5185 - val_acc: 0.0611\n",
            "Epoch 48/100\n",
            "271/271 [==============================] - 38s 139ms/step - loss: 3.4244 - acc: 0.1616 - val_loss: 5.4942 - val_acc: 0.0575\n",
            "Epoch 49/100\n",
            "271/271 [==============================] - 36s 134ms/step - loss: 3.4210 - acc: 0.1657 - val_loss: 5.5228 - val_acc: 0.0600\n",
            "Epoch 50/100\n",
            "271/271 [==============================] - 37s 135ms/step - loss: 3.4029 - acc: 0.1670 - val_loss: 5.5204 - val_acc: 0.0580\n",
            "Epoch 51/100\n",
            "271/271 [==============================] - 36s 131ms/step - loss: 3.3968 - acc: 0.1680 - val_loss: 5.5271 - val_acc: 0.0569\n",
            "Epoch 52/100\n",
            "271/271 [==============================] - 38s 141ms/step - loss: 3.3886 - acc: 0.1704 - val_loss: 5.5071 - val_acc: 0.0585\n",
            "Epoch 53/100\n",
            "271/271 [==============================] - 36s 134ms/step - loss: 3.3724 - acc: 0.1714 - val_loss: 5.5807 - val_acc: 0.0588\n",
            "Epoch 54/100\n",
            "271/271 [==============================] - 38s 141ms/step - loss: 3.3654 - acc: 0.1705 - val_loss: 5.5971 - val_acc: 0.0583\n",
            "Epoch 55/100\n",
            "271/271 [==============================] - 36s 133ms/step - loss: 3.3560 - acc: 0.1691 - val_loss: 5.6158 - val_acc: 0.0590\n",
            "Epoch 56/100\n",
            "271/271 [==============================] - 38s 141ms/step - loss: 3.3363 - acc: 0.1761 - val_loss: 5.6233 - val_acc: 0.0595\n",
            "Epoch 57/100\n",
            "271/271 [==============================] - 37s 135ms/step - loss: 3.3297 - acc: 0.1747 - val_loss: 5.6065 - val_acc: 0.0575\n",
            "Epoch 58/100\n",
            "271/271 [==============================] - 38s 140ms/step - loss: 3.3251 - acc: 0.1769 - val_loss: 5.6067 - val_acc: 0.0592\n",
            "Epoch 59/100\n",
            "271/271 [==============================] - 37s 135ms/step - loss: 3.3135 - acc: 0.1764 - val_loss: 5.6320 - val_acc: 0.0585\n",
            "Epoch 60/100\n",
            "271/271 [==============================] - 37s 136ms/step - loss: 3.3103 - acc: 0.1768 - val_loss: 5.6359 - val_acc: 0.0571\n",
            "Epoch 61/100\n",
            "271/271 [==============================] - 37s 135ms/step - loss: 3.3006 - acc: 0.1787 - val_loss: 5.6700 - val_acc: 0.0585\n",
            "Epoch 62/100\n",
            "271/271 [==============================] - 38s 139ms/step - loss: 3.2925 - acc: 0.1795 - val_loss: 5.6898 - val_acc: 0.0575\n",
            "Epoch 63/100\n",
            "271/271 [==============================] - 36s 135ms/step - loss: 3.2774 - acc: 0.1831 - val_loss: 5.6868 - val_acc: 0.0550\n",
            "Epoch 64/100\n",
            "271/271 [==============================] - 38s 139ms/step - loss: 3.2706 - acc: 0.1866 - val_loss: 5.6826 - val_acc: 0.0546\n",
            "Epoch 65/100\n",
            "271/271 [==============================] - 36s 135ms/step - loss: 3.2620 - acc: 0.1810 - val_loss: 5.7081 - val_acc: 0.0517\n",
            "Epoch 66/100\n",
            "271/271 [==============================] - 38s 141ms/step - loss: 3.2540 - acc: 0.1825 - val_loss: 5.6815 - val_acc: 0.0541\n",
            "Epoch 67/100\n",
            "271/271 [==============================] - 39s 145ms/step - loss: 3.2406 - acc: 0.1840 - val_loss: 5.7251 - val_acc: 0.0532\n",
            "Epoch 68/100\n",
            "271/271 [==============================] - 36s 134ms/step - loss: 3.2353 - acc: 0.1873 - val_loss: 5.7142 - val_acc: 0.0537\n",
            "Epoch 69/100\n",
            "271/271 [==============================] - 38s 139ms/step - loss: 3.2252 - acc: 0.1906 - val_loss: 5.7365 - val_acc: 0.0571\n",
            "Epoch 70/100\n",
            "271/271 [==============================] - 36s 135ms/step - loss: 3.2261 - acc: 0.1870 - val_loss: 5.7475 - val_acc: 0.0532\n",
            "Epoch 71/100\n",
            "271/271 [==============================] - 38s 140ms/step - loss: 3.2187 - acc: 0.1904 - val_loss: 5.7388 - val_acc: 0.0566\n",
            "Epoch 72/100\n",
            "271/271 [==============================] - 37s 135ms/step - loss: 3.2085 - acc: 0.1886 - val_loss: 5.7424 - val_acc: 0.0534\n",
            "Epoch 73/100\n",
            "271/271 [==============================] - 38s 140ms/step - loss: 3.1977 - acc: 0.1910 - val_loss: 5.7748 - val_acc: 0.0499\n",
            "Epoch 74/100\n",
            "271/271 [==============================] - 37s 135ms/step - loss: 3.1884 - acc: 0.1947 - val_loss: 5.8051 - val_acc: 0.0503\n",
            "Epoch 75/100\n",
            "271/271 [==============================] - 38s 141ms/step - loss: 3.1803 - acc: 0.1941 - val_loss: 5.8160 - val_acc: 0.0546\n",
            "Epoch 76/100\n",
            "271/271 [==============================] - 36s 132ms/step - loss: 3.1707 - acc: 0.1921 - val_loss: 5.8211 - val_acc: 0.0481\n",
            "Epoch 77/100\n",
            "271/271 [==============================] - 38s 141ms/step - loss: 3.1764 - acc: 0.1930 - val_loss: 5.7824 - val_acc: 0.0547\n",
            "Epoch 78/100\n",
            "271/271 [==============================] - 37s 136ms/step - loss: 3.1624 - acc: 0.1975 - val_loss: 5.8535 - val_acc: 0.0562\n",
            "Epoch 79/100\n",
            "271/271 [==============================] - 39s 143ms/step - loss: 3.1591 - acc: 0.1976 - val_loss: 5.8276 - val_acc: 0.0565\n",
            "Epoch 80/100\n",
            "271/271 [==============================] - 37s 136ms/step - loss: 3.1468 - acc: 0.2026 - val_loss: 5.8224 - val_acc: 0.0532\n",
            "Epoch 81/100\n",
            "271/271 [==============================] - 39s 142ms/step - loss: 3.1419 - acc: 0.1961 - val_loss: 5.8445 - val_acc: 0.0543\n",
            "Epoch 82/100\n",
            "271/271 [==============================] - 37s 135ms/step - loss: 3.1466 - acc: 0.1995 - val_loss: 5.8316 - val_acc: 0.0511\n",
            "Epoch 83/100\n",
            "271/271 [==============================] - 38s 141ms/step - loss: 3.1283 - acc: 0.1994 - val_loss: 5.8447 - val_acc: 0.0531\n",
            "Epoch 84/100\n",
            "271/271 [==============================] - 37s 135ms/step - loss: 3.1261 - acc: 0.2002 - val_loss: 5.8537 - val_acc: 0.0521\n",
            "Epoch 85/100\n",
            "271/271 [==============================] - 38s 139ms/step - loss: 3.1228 - acc: 0.2034 - val_loss: 5.9057 - val_acc: 0.0512\n",
            "Epoch 86/100\n",
            "271/271 [==============================] - 36s 134ms/step - loss: 3.1129 - acc: 0.2015 - val_loss: 5.8547 - val_acc: 0.0508\n",
            "Epoch 87/100\n",
            "271/271 [==============================] - 38s 139ms/step - loss: 3.1072 - acc: 0.2052 - val_loss: 5.8747 - val_acc: 0.0506\n",
            "Epoch 88/100\n",
            "271/271 [==============================] - 39s 144ms/step - loss: 3.0991 - acc: 0.2045 - val_loss: 5.8715 - val_acc: 0.0464\n",
            "Epoch 89/100\n",
            "271/271 [==============================] - 37s 135ms/step - loss: 3.1061 - acc: 0.2039 - val_loss: 5.8950 - val_acc: 0.0522\n",
            "Epoch 90/100\n",
            "271/271 [==============================] - 38s 141ms/step - loss: 3.0914 - acc: 0.2078 - val_loss: 5.8855 - val_acc: 0.0510\n",
            "Epoch 91/100\n",
            "271/271 [==============================] - 36s 132ms/step - loss: 3.0790 - acc: 0.2074 - val_loss: 5.9256 - val_acc: 0.0541\n",
            "Epoch 92/100\n",
            "271/271 [==============================] - 38s 141ms/step - loss: 3.0878 - acc: 0.2052 - val_loss: 5.9014 - val_acc: 0.0511\n",
            "Epoch 93/100\n",
            "271/271 [==============================] - 37s 135ms/step - loss: 3.0754 - acc: 0.2086 - val_loss: 5.9467 - val_acc: 0.0510\n",
            "Epoch 94/100\n",
            "271/271 [==============================] - 39s 142ms/step - loss: 3.0754 - acc: 0.2093 - val_loss: 5.9135 - val_acc: 0.0521\n",
            "Epoch 95/100\n",
            "271/271 [==============================] - 36s 133ms/step - loss: 3.0772 - acc: 0.2091 - val_loss: 5.9268 - val_acc: 0.0503\n",
            "Epoch 96/100\n",
            "271/271 [==============================] - 38s 142ms/step - loss: 3.0720 - acc: 0.2111 - val_loss: 5.9665 - val_acc: 0.0525\n",
            "Epoch 97/100\n",
            "271/271 [==============================] - 37s 136ms/step - loss: 3.0690 - acc: 0.2099 - val_loss: 5.9030 - val_acc: 0.0481\n",
            "Epoch 98/100\n",
            "271/271 [==============================] - 38s 140ms/step - loss: 3.0543 - acc: 0.2122 - val_loss: 5.9592 - val_acc: 0.0475\n",
            "Epoch 99/100\n",
            "271/271 [==============================] - 37s 135ms/step - loss: 3.0582 - acc: 0.2133 - val_loss: 5.9962 - val_acc: 0.0518\n",
            "Epoch 100/100\n",
            "271/271 [==============================] - 39s 142ms/step - loss: 3.0391 - acc: 0.2155 - val_loss: 5.9590 - val_acc: 0.0536\n"
          ]
        }
      ],
      "source": [
        "history = model.fit(np.array(x_tr),np.array(y_tr),batch_size=128,epochs=100, validation_data=(np.array(x_val),np.array(y_val)),verbose=1)"
      ]
    },
    {
      "cell_type": "code",
      "execution_count": null,
      "metadata": {
        "id": "DnzN-AlJUQT5"
      },
      "outputs": [],
      "source": [
        "# #loading best model\n",
        "# from keras.models import load_model\n",
        "# model = load_model('best_model.h5')"
      ]
    },
    {
      "cell_type": "code",
      "execution_count": null,
      "metadata": {
        "colab": {
          "base_uri": "https://localhost:8080/"
        },
        "id": "FoOGq0ogUQT5",
        "outputId": "055325d6-eb39-46f5-e43c-236dd6f1af64"
      },
      "outputs": [
        {
          "output_type": "execute_result",
          "data": {
            "text/plain": [
              "array([[1958, 1829,  269, ..., 1123, 1578,  334],\n",
              "       [ 431, 1748,  797, ...,  585, 1293, 1290],\n",
              "       [  77, 1700, 1293, ...,  652, 1463,  613],\n",
              "       ...,\n",
              "       [ 549, 1947, 1724, ...,  549,  352,  191],\n",
              "       [1941,  585,  398, ..., 1371, 1123, 1669],\n",
              "       [ 585, 1280, 1448, ..., 1305,  549, 1870]])"
            ]
          },
          "metadata": {},
          "execution_count": 26
        }
      ],
      "source": [
        "len(x_val)\n",
        "x_val"
      ]
    },
    {
      "cell_type": "code",
      "execution_count": null,
      "metadata": {
        "colab": {
          "base_uri": "https://localhost:8080/"
        },
        "id": "Hsj7xRESUQT5",
        "outputId": "5f90a48a-7a96-4456-bdd9-1e7b4c61d4dc"
      },
      "outputs": [
        {
          "output_type": "stream",
          "name": "stdout",
          "text": [
            "1/1 [==============================] - 0s 23ms/step\n",
            "1/1 [==============================] - 0s 22ms/step\n",
            "1/1 [==============================] - 0s 24ms/step\n",
            "1/1 [==============================] - 0s 27ms/step\n",
            "1/1 [==============================] - 0s 26ms/step\n",
            "1/1 [==============================] - 0s 25ms/step\n",
            "1/1 [==============================] - 0s 25ms/step\n",
            "1/1 [==============================] - 0s 22ms/step\n",
            "1/1 [==============================] - 0s 22ms/step\n",
            "1/1 [==============================] - 0s 26ms/step\n",
            "1/1 [==============================] - 0s 22ms/step\n",
            "1/1 [==============================] - 0s 24ms/step\n",
            "1/1 [==============================] - 0s 23ms/step\n",
            "1/1 [==============================] - 0s 22ms/step\n",
            "1/1 [==============================] - 0s 24ms/step\n",
            "1/1 [==============================] - 0s 23ms/step\n",
            "1/1 [==============================] - 0s 23ms/step\n",
            "1/1 [==============================] - 0s 23ms/step\n",
            "1/1 [==============================] - 0s 26ms/step\n",
            "1/1 [==============================] - 0s 22ms/step\n",
            "1/1 [==============================] - 0s 22ms/step\n",
            "1/1 [==============================] - 0s 22ms/step\n",
            "1/1 [==============================] - 0s 22ms/step\n",
            "1/1 [==============================] - 0s 22ms/step\n",
            "1/1 [==============================] - 0s 22ms/step\n",
            "[1293, 1293, 1293, 1229, 1229, 1229, 1229, 1293, 1620, 585, 1293, 1293, 1293, 585, 1293, 1293, 1293, 585, 1293, 585, 536, 585, 1620, 585, 585]\n"
          ]
        }
      ],
      "source": [
        "import random\n",
        "ind = np.random.randint(0,len(x_val)-1)\n",
        "\n",
        "random_music = x_val[ind]\n",
        "\n",
        "predictions=[]\n",
        "for i in range(25):\n",
        "\n",
        "    random_music = random_music.reshape(1,no_of_timesteps)\n",
        "\n",
        "    prob  = model.predict(random_music)[0]\n",
        "    r = random.randrange(0,2)\n",
        "    if (r == 0):\n",
        "        y_pred= np.argmax(prob,axis=0)\n",
        "    else:\n",
        "        max_index = np.argmax(prob)\n",
        "        prob[max_index] = -np.inf\n",
        "        y_pred = np.argmax(prob,axis=0)\n",
        "    predictions.append(y_pred)\n",
        "\n",
        "    random_music = np.insert(random_music[0],len(random_music[0]),y_pred)\n",
        "    random_music = random_music[1:]\n",
        "\n",
        "print(predictions)"
      ]
    },
    {
      "cell_type": "code",
      "execution_count": null,
      "metadata": {
        "colab": {
          "base_uri": "https://localhost:8080/"
        },
        "id": "DuFvqiAfUQT5",
        "outputId": "1530eac1-4f32-4d9b-b336-88dea97b9bcb"
      },
      "outputs": [
        {
          "output_type": "execute_result",
          "data": {
            "text/plain": [
              "array([1720, 1293,  952, 1737, 1063, 1448, 1811, 1293, 1293, 1293, 1229,\n",
              "       1229, 1229, 1229, 1293, 1620,  585, 1293, 1293, 1293,  585, 1293,\n",
              "       1293, 1293,  585, 1293,  585,  536,  585, 1620,  585,  585])"
            ]
          },
          "metadata": {},
          "execution_count": 153
        }
      ],
      "source": [
        "random_music"
      ]
    },
    {
      "cell_type": "code",
      "execution_count": null,
      "metadata": {
        "colab": {
          "base_uri": "https://localhost:8080/"
        },
        "id": "9RUBU1g5UQT5",
        "outputId": "5e319cef-cb9f-414d-99df-235aabc0b966"
      },
      "outputs": [
        {
          "output_type": "execute_result",
          "data": {
            "text/plain": [
              "['D5',\n",
              " 'D5',\n",
              " 'D5',\n",
              " 'C#5',\n",
              " 'C#5',\n",
              " 'C#5',\n",
              " 'C#5',\n",
              " 'D5',\n",
              " '9.2',\n",
              " 'A5',\n",
              " 'D5',\n",
              " 'D5',\n",
              " 'D5',\n",
              " 'A5',\n",
              " 'D5',\n",
              " 'D5',\n",
              " 'D5',\n",
              " 'A5',\n",
              " 'D5',\n",
              " 'A5',\n",
              " 'C5',\n",
              " 'A5',\n",
              " '9.2',\n",
              " 'A5',\n",
              " 'A5']"
            ]
          },
          "metadata": {},
          "execution_count": 154
        }
      ],
      "source": [
        "x_int_to_note = dict((number, note_) for number, note_ in enumerate(unique_x))\n",
        "predicted_notes = [x_int_to_note[i] for i in predictions]\n",
        "predicted_notes"
      ]
    },
    {
      "cell_type": "code",
      "execution_count": null,
      "metadata": {
        "id": "NlANI5kuUQT5"
      },
      "outputs": [],
      "source": [
        "from music21 import note, chord, instrument, stream, tempo\n",
        "\n",
        "def convert_to_midi(prediction_output):\n",
        "\n",
        "    offset = 0\n",
        "    output_notes = []\n",
        "    midi_stream = stream.Stream()\n",
        "\n",
        "    # create note and chord objects based on the values generated by the model\n",
        "    for pattern in prediction_output:\n",
        "\n",
        "        # pattern is a chord\n",
        "        if ('.' in pattern) or pattern.isdigit():\n",
        "            notes_in_chord = pattern.split('.')\n",
        "            notes = []\n",
        "            for current_note in notes_in_chord:\n",
        "\n",
        "                cn=int(current_note)\n",
        "                new_note = note.Note(cn)\n",
        "                new_note.storedInstrument = instrument.Banjo()\n",
        "                notes.append(new_note)\n",
        "\n",
        "            new_chord = chord.Chord(notes)\n",
        "            new_chord.offset = offset\n",
        "            output_notes.append(new_chord)\n",
        "\n",
        "        # pattern is a note\n",
        "        else:\n",
        "\n",
        "            new_note = note.Note(pattern)\n",
        "            new_note.offset = offset\n",
        "            new_note.storedInstrument = instrument.Banjo()\n",
        "            output_notes.append(new_note)\n",
        "\n",
        "        # increase offset each iteration so that notes do not stack\n",
        "        offset += 1\n",
        "    midi_stream = stream.Stream(output_notes)\n",
        "    midi_stream.write('midi', fp='music.mid')\n",
        "\n",
        "convert_to_midi(predicted_notes)"
      ]
    },
    {
      "cell_type": "code",
      "source": [
        "predicted_notes"
      ],
      "metadata": {
        "colab": {
          "base_uri": "https://localhost:8080/"
        },
        "id": "wiTwaw-kbG0U",
        "outputId": "80089cbd-47de-4574-8e89-1a9da6911a68"
      },
      "execution_count": null,
      "outputs": [
        {
          "output_type": "execute_result",
          "data": {
            "text/plain": [
              "['A5',\n",
              " 'A5',\n",
              " 'A5',\n",
              " 'A5',\n",
              " 'A5',\n",
              " 'C5',\n",
              " 'C5',\n",
              " '9.2',\n",
              " 'A5',\n",
              " 'A5',\n",
              " '9.2',\n",
              " '2.7',\n",
              " '9.2',\n",
              " 'D6',\n",
              " 'A5',\n",
              " 'C#5',\n",
              " '2.4',\n",
              " 'C#5',\n",
              " 'E5',\n",
              " 'E5',\n",
              " 'A3',\n",
              " 'A5',\n",
              " '2.4',\n",
              " 'A5',\n",
              " 'A5']"
            ]
          },
          "metadata": {},
          "execution_count": 146
        }
      ]
    },
    {
      "cell_type": "code",
      "source": [
        "from music21 import note, chord, instrument, stream\n",
        "\n",
        "def convert_to_midi(prediction_output, note_duration=1.0):\n",
        "    offset = 0\n",
        "    output_notes = []\n",
        "    midi_stream = stream.Stream()\n",
        "\n",
        "    # Logic to condense repeated notes and their durations\n",
        "    condensed_notes = []\n",
        "    current_note = prediction_output[0]\n",
        "    note_count = 1\n",
        "\n",
        "    for i in range(1, len(prediction_output)):\n",
        "        if prediction_output[i] == current_note:\n",
        "            note_count += 1\n",
        "        else:\n",
        "            condensed_notes.append((current_note, note_count * note_duration))\n",
        "            current_note = prediction_output[i]\n",
        "            note_count = 1\n",
        "\n",
        "    # Append the last set of notes\n",
        "    condensed_notes.append((current_note, note_count * note_duration))\n",
        "\n",
        "    # create note and chord objects based on the condensed sequence\n",
        "    for pattern, duration in condensed_notes:\n",
        "        if ('.' in pattern) or pattern.isdigit():\n",
        "            notes_in_chord = pattern.split('.')\n",
        "            notes = []\n",
        "            for current_note in notes_in_chord:\n",
        "                cn = int(current_note)\n",
        "                new_note = note.Note(cn, quarterLength=duration)\n",
        "                new_note.storedInstrument = instrument.Banjo()\n",
        "                notes.append(new_note)\n",
        "\n",
        "            new_chord = chord.Chord(notes)\n",
        "            new_chord.offset = offset\n",
        "            output_notes.append(new_chord)\n",
        "        else:\n",
        "            new_note = note.Note(pattern, quarterLength=duration)\n",
        "            new_note.offset = offset\n",
        "            new_note.storedInstrument = instrument.Banjo()\n",
        "            output_notes.append(new_note)\n",
        "\n",
        "        # increase offset each iteration so that notes do not stack\n",
        "        offset += duration - 1\n",
        "\n",
        "    # Add the notes to the stream\n",
        "    midi_stream = stream.Stream(output_notes)\n",
        "    midi_stream.write('midi', fp='music.mid')\n",
        "\n",
        "# You can adjust the note duration as needed\n",
        "convert_to_midi(predicted_notes, note_duration=1.5)  # Use a different note duration if required\n"
      ],
      "metadata": {
        "id": "KX2l_qotUONe"
      },
      "execution_count": null,
      "outputs": []
    }
  ],
  "metadata": {
    "kernelspec": {
      "display_name": "Python 3",
      "language": "python",
      "name": "python3"
    },
    "language_info": {
      "codemirror_mode": {
        "name": "ipython",
        "version": 3
      },
      "file_extension": ".py",
      "mimetype": "text/x-python",
      "name": "python",
      "nbconvert_exporter": "python",
      "pygments_lexer": "ipython3",
      "version": "3.7.3"
    },
    "colab": {
      "provenance": []
    }
  },
  "nbformat": 4,
  "nbformat_minor": 0
}